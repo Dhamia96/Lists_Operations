{
 "cells": [
  {
   "cell_type": "markdown",
   "metadata": {},
   "source": [
    "Create a function that accepts a number as an input. Return a new list that counts down by one, from the number (as the 0th element) down to 0 (as the last element)."
   ]
  },
  {
   "cell_type": "code",
   "execution_count": 13,
   "metadata": {},
   "outputs": [
    {
     "name": "stdout",
     "output_type": "stream",
     "text": [
      "[5, 4, 3, 2, 1, 0]\n"
     ]
    }
   ],
   "source": [
    "def countdown(number):\n",
    "    mylist=[]\n",
    "    i=0\n",
    "    while number >= 0:\n",
    "        mylist.append(number)\n",
    "        number-=1\n",
    "        i+=1 \n",
    "    return mylist\n",
    "result=countdown(5)\n",
    "print(result)"
   ]
  },
  {
   "cell_type": "markdown",
   "metadata": {},
   "source": [
    "Create a function that will receive a list with two numbers. Print the first value and return the second."
   ]
  },
  {
   "cell_type": "code",
   "execution_count": 14,
   "metadata": {},
   "outputs": [
    {
     "name": "stdout",
     "output_type": "stream",
     "text": [
      "1\n",
      "2\n"
     ]
    }
   ],
   "source": [
    "def  print_and_return(mylist):\n",
    "    print(mylist[0])\n",
    "    return mylist[1]\n",
    "result=print_and_return([1,2])\n",
    "print(result)"
   ]
  },
  {
   "cell_type": "markdown",
   "metadata": {},
   "source": [
    "Create a function that accepts a list and returns the sum of the first value in the list plus the list's length."
   ]
  },
  {
   "cell_type": "code",
   "execution_count": 17,
   "metadata": {},
   "outputs": [
    {
     "name": "stdout",
     "output_type": "stream",
     "text": [
      "6\n"
     ]
    }
   ],
   "source": [
    "def first_plus_length(mylist):\n",
    "    return mylist[0]+len(mylist)\n",
    "\n",
    "result=first_plus_length([1,2,3,4,5])\n",
    "print(result)"
   ]
  },
  {
   "cell_type": "markdown",
   "metadata": {},
   "source": [
    "Write a function that accepts two integers as parameters: size and value. The function should create and return a list whose length is equal to the given size, and whose values are all the given value."
   ]
  },
  {
   "cell_type": "code",
   "execution_count": 21,
   "metadata": {},
   "outputs": [
    {
     "name": "stdout",
     "output_type": "stream",
     "text": [
      "[7, 7, 7, 7]\n",
      "[2, 2, 2, 2, 2, 2]\n"
     ]
    }
   ],
   "source": [
    "def length_and_value(size, value):\n",
    "    i=0\n",
    "    mylist=[]\n",
    "    while i < size:\n",
    "        mylist.append(value)\n",
    "        i+=1\n",
    "    return mylist\n",
    "result1=length_and_value(4, 7)\n",
    "result2=length_and_value(6, 2)\n",
    "print(result1)\n",
    "print(result2)\n",
    "        "
   ]
  },
  {
   "cell_type": "markdown",
   "metadata": {},
   "source": [
    "Values Greater than Second (Optional) - Write a function that accepts a list and creates a new list containing only the values from the original list that are greater than its 2nd value. Print how many values this is and then return the new list. If the list has less than 2 elements, have the function return False."
   ]
  },
  {
   "cell_type": "code",
   "execution_count": 36,
   "metadata": {},
   "outputs": [
    {
     "name": "stdout",
     "output_type": "stream",
     "text": [
      "3\n",
      "[5, 3, 4]\n",
      "False\n"
     ]
    }
   ],
   "source": [
    "def values_greater_than_second(mylist):\n",
    "    if(len(mylist) < 2):\n",
    "        return False\n",
    "    else:\n",
    "        i=0\n",
    "        count=0\n",
    "        newlist=[]\n",
    "        while i < len(mylist):\n",
    "            if(mylist[i]>mylist[1]):\n",
    "                newlist.append(mylist[i])\n",
    "                count+=1\n",
    "            i+=1\n",
    "        print(count)\n",
    "        return newlist\n",
    "    \n",
    "result1=values_greater_than_second([5,2,3,2,1,4])\n",
    "result2=values_greater_than_second([])\n",
    "print(result1)\n",
    "print(result2)"
   ]
  },
  {
   "cell_type": "code",
   "execution_count": null,
   "metadata": {},
   "outputs": [],
   "source": []
  }
 ],
 "metadata": {
  "kernelspec": {
   "display_name": "Python 3",
   "language": "python",
   "name": "python3"
  },
  "language_info": {
   "codemirror_mode": {
    "name": "ipython",
    "version": 3
   },
   "file_extension": ".py",
   "mimetype": "text/x-python",
   "name": "python",
   "nbconvert_exporter": "python",
   "pygments_lexer": "ipython3",
   "version": "3.8.5"
  }
 },
 "nbformat": 4,
 "nbformat_minor": 4
}
